{
 "cells": [
  {
   "cell_type": "markdown",
   "metadata": {},
   "source": [
    "# PH2102 Electromagnetism\n",
    "\n",
    "## Numerical methods and computation with Python\n",
    "### Lesson 2"
   ]
  },
  {
   "cell_type": "code",
   "execution_count": null,
   "metadata": {},
   "outputs": [],
   "source": [
    "# package(s) installation\n",
    "\n",
    "import sys\n",
    "!{sys.executable} -m pip install sympy"
   ]
  },
  {
   "cell_type": "code",
   "execution_count": null,
   "metadata": {},
   "outputs": [],
   "source": [
    "# preamble\n",
    "\n",
    "%matplotlib inline\n",
    "from scipy import *\n",
    "import sympy as sym\n",
    "import matplotlib.pyplot as plt\n",
    "from mpl_toolkits.mplot3d import Axes3D\n",
    "from matplotlib import cm"
   ]
  },
  {
   "cell_type": "markdown",
   "metadata": {},
   "source": [
    "## 2. Gentle introduction to Symbolic Python<a name=\"sympy\"></a>\n",
    "\n",
    "For this section, you need `sympy` library installed for `python`. `sympy` deals with the computation of mathematical objects symbolically. This means that the mathematical objects are represented exactly and mathematical expressions with unevaluated variables are left in symbolic form. Before you dive headfirst into using `sympy` for all of your analytical solutions however, it is unfortunate that many of the sophisticated mathematical expressions (e.g. complex multi-dimensional differential equations) in physics remain a work in progress in `sympy` implementation. Always check `sympy`'s [online documentation](https://docs.sympy.org/latest/index.html) for an update on its current functionalities."
   ]
  },
  {
   "cell_type": "markdown",
   "metadata": {},
   "source": [
    "### A. Basic syntax\n",
    "\n",
    "`sympy`'s functions, variables, and even floats aren't the same as `numpy`/ `scipy` analogues. For example \n",
    ">sympy.exp() $\\neq$ scipy.exp()"
   ]
  },
  {
   "cell_type": "code",
   "execution_count": null,
   "metadata": {},
   "outputs": [],
   "source": [
    "sym.exp(3)"
   ]
  },
  {
   "cell_type": "markdown",
   "metadata": {},
   "source": [
    "Symbols that are going to used as symbolic variable must be declared as such."
   ]
  },
  {
   "cell_type": "code",
   "execution_count": null,
   "metadata": {},
   "outputs": [],
   "source": [
    "x = sym.symbols('x')\n",
    "sym.exp(x)"
   ]
  },
  {
   "cell_type": "markdown",
   "metadata": {},
   "source": [
    "Let take a look at assigning values to symbolic variables using the `subs` function."
   ]
  },
  {
   "cell_type": "code",
   "execution_count": null,
   "metadata": {},
   "outputs": [],
   "source": [
    "sym.exp(x).subs({x:3})"
   ]
  },
  {
   "cell_type": "markdown",
   "metadata": {},
   "source": [
    "To evaluate the numerical value of a `sympy` expression, use the `evalf` function (alternatively, just use decimal point when declaring/assigning numerical values.)"
   ]
  },
  {
   "cell_type": "code",
   "execution_count": null,
   "metadata": {},
   "outputs": [],
   "source": [
    "sym.exp(3).evalf(), sym.exp(3.), sym.exp(x).subs({x:3.})"
   ]
  },
  {
   "cell_type": "markdown",
   "metadata": {},
   "source": [
    "`sympy` is able to convert some standard variables to LaTeX output."
   ]
  },
  {
   "cell_type": "code",
   "execution_count": null,
   "metadata": {},
   "outputs": [],
   "source": [
    "sym.init_printing() # for LaTeX formatted output\n",
    "\n",
    "Sigma, Sigma_p = sym.symbols('Sigma, \\Sigma^{\\prime}')\n",
    "\n",
    "Sigma, Sigma_p, sym.pi, sym.E"
   ]
  },
  {
   "cell_type": "markdown",
   "metadata": {},
   "source": [
    "One consequence of `sympy`'s symbolic expressions is they must be turned into `scipy`/ `numpy` expressions if they are to be evaluated for plotting or numerical results. This is done with the `lambdify` function call."
   ]
  },
  {
   "cell_type": "code",
   "execution_count": null,
   "metadata": {},
   "outputs": [],
   "source": [
    "x, y = sym.symbols('x, y')\n",
    "f = 12*x**3\n",
    "g = 12*x**3 * sym.exp(y)\n",
    "\n",
    "f = sym.lambdify(x, f) # turns sympy expression f into a function f(x) for use in scipy/numpy\n",
    "g = sym.lambdify((x, y), g) # turns sympy expression g into function g(x,y) for use in scipy/numpy\n",
    "\n",
    "xx = arange(-4, 4, 0.05) # xx so that it doesn't collide with symbolic x\n",
    "A = f(xx)\n",
    "B = g(xx, log(1/2))\n",
    "plt.plot(xx, A)\n",
    "plt.plot(xx, B)"
   ]
  },
  {
   "cell_type": "markdown",
   "metadata": {},
   "source": [
    "### B. Vector calculus\n",
    "\n",
    "#### Vector and scalar fields<a name=\"field\"></a>\n",
    "To define a vector field, declare a reference frame, R, using `ReferenceFrame` from `sympy.physics.vector` submodule and initialise the basis vectors with R.x, R.y and R.z respectively."
   ]
  },
  {
   "cell_type": "code",
   "execution_count": null,
   "metadata": {},
   "outputs": [],
   "source": [
    "from sympy.physics.vector import ReferenceFrame\n",
    "\n",
    "R = ReferenceFrame('R')\n",
    "vector_field = 3*R.x + 4*R.y + 5*R.z\n",
    "vector_field"
   ]
  },
  {
   "cell_type": "markdown",
   "metadata": {},
   "source": [
    "To define a scalar field, the base scalars (coordinate variables) can be initialised with R[0], R[1] and R[2] instead."
   ]
  },
  {
   "cell_type": "code",
   "execution_count": null,
   "metadata": {},
   "outputs": [],
   "source": [
    "R = ReferenceFrame('R')\n",
    "scalar_field = 2*R[0]**2*R[1]\n",
    "scalar_field"
   ]
  },
  {
   "cell_type": "markdown",
   "metadata": {},
   "source": [
    "#### Gradient, divergence and curl<a name=\"gdc\"></a>\n",
    "`sympy` has helpful functions for calculating the gradient, divergence and curl of a field, using `grad`, `div` and `curl` function calls respectively.\n",
    "\n",
    "Recall our previous example for __gradient__."
   ]
  },
  {
   "cell_type": "code",
   "execution_count": null,
   "metadata": {},
   "outputs": [],
   "source": [
    "from sympy.physics.vector import gradient\n",
    "\n",
    "R = ReferenceFrame('R')\n",
    "scalar_field = sym.exp(-R[0]**2 - R[1]**2)\n",
    "g = gradient(scalar_field, R)\n",
    "g"
   ]
  },
  {
   "cell_type": "code",
   "execution_count": null,
   "metadata": {},
   "outputs": [],
   "source": [
    "## set up the co-ordinates\n",
    "x = linspace(-2., 2., 20)\n",
    "y = linspace(-2., 2., 20)\n",
    "X, Y = meshgrid(x, y)\n",
    "\n",
    "## seperating into components for the gradient\n",
    "x_component = g.to_matrix(R)[0]\n",
    "y_component = g.to_matrix(R)[1]\n",
    "\n",
    "## converting to scipy/ numpy expressions\n",
    "grad_x = sym.lambdify((R[0], R[1]), x_component)\n",
    "grad_y = sym.lambdify((R[0], R[1]), y_component)\n",
    "Z = sym.lambdify((R[0], R[1]), scalar_field)\n",
    "\n",
    "## setting up plot\n",
    "plt.gca().set_aspect('equal', adjustable='box')\n",
    "\n",
    "## plotting the gradient (which is a vector field)\n",
    "plt.contour(X, Y, Z(X, Y)) # analogous to a topographic map\n",
    "plt.quiver(X, Y, grad_x(X, Y), grad_y(X, Y))"
   ]
  },
  {
   "cell_type": "markdown",
   "metadata": {},
   "source": [
    "Exercise 6) Reproduce the same surface plot for our __divergence__ example above, this time using `sympy` library."
   ]
  },
  {
   "cell_type": "code",
   "execution_count": null,
   "metadata": {},
   "outputs": [],
   "source": [
    "from sympy.physics.vector import divergence\n",
    "\n",
    "## complete the code here"
   ]
  },
  {
   "cell_type": "code",
   "execution_count": null,
   "metadata": {},
   "outputs": [],
   "source": [
    "## set up the co-ordinates\n",
    "x = linspace(-2., 2., 20)\n",
    "y = linspace(-2., 2., 20)\n",
    "X, Y = meshgrid(x, y)\n",
    "\n",
    "## converting to scipy/ numpy expressions\n",
    "\n",
    "## setting up plot\n",
    "ax = plt.figure().gca(projection = '3d')\n",
    "\n",
    "## plotting the divergence (which is a scalar field)\n"
   ]
  },
  {
   "cell_type": "markdown",
   "metadata": {},
   "source": [
    "Exercise 7) Let's replicate the result from our __curl__ example using `sympy`."
   ]
  },
  {
   "cell_type": "code",
   "execution_count": null,
   "metadata": {},
   "outputs": [],
   "source": [
    "from sympy.physics.vector import curl\n",
    "\n",
    "## complete the code here"
   ]
  },
  {
   "cell_type": "code",
   "execution_count": null,
   "metadata": {},
   "outputs": [],
   "source": [
    "## set up the co-ordinates\n",
    "x = linspace(-2., 2., 10)\n",
    "y = linspace(-2., 2., 10)\n",
    "z = linspace(0., .1, 10)\n",
    "X, Y, Z = meshgrid(x, y, z, indexing='ij')\n",
    "\n",
    "## seperating into components for the curl\n",
    "\n",
    "## seperating into components for the original vector field\n",
    "\n",
    "## converting to scipy/ numpy expressions\n",
    "\n",
    "## setting up plot\n",
    "ax = plt.figure().gca(projection = '3d')\n",
    "\n",
    "## plotting the curl (which is a vector field)\n"
   ]
  },
  {
   "cell_type": "markdown",
   "metadata": {},
   "source": [
    "#### Laplacian of 1/r<a name=\"lap_dirac\"></a>\n",
    "\n",
    "We see in the lectures that the laplacian of $\\frac{1}{r}$ deserves special treatment, and its analytical solution is given as\n",
    "<h3 align=\"center\">$\\nabla^2 \\frac{1}{r}=-4\\pi \\delta^3(\\vec{r})$</h3>\n",
    "\n",
    "Let us see how does `sympy` handles such a situation."
   ]
  },
  {
   "cell_type": "code",
   "execution_count": null,
   "metadata": {},
   "outputs": [],
   "source": [
    "R = ReferenceFrame('R')\n",
    "scalar_field = 1/sym.sqrt(R[0]**2+R[1]**2+R[2]**2)\n",
    "g = gradient(scalar_field, R)\n",
    "f = divergence(g, R)\n",
    "sym.simplify(f)"
   ]
  },
  {
   "cell_type": "markdown",
   "metadata": {},
   "source": [
    "_*Attention: We need to note that `sympy` correctly gives us $0$ for $r \\neq 0$, but does not recognise the solution to $\\nabla^2 \\frac{1}{r}$ at the singularity point $r=0$._"
   ]
  },
  {
   "cell_type": "markdown",
   "metadata": {},
   "source": [
    "#### Conservative vector field<a name=\"conserv\"></a>\n",
    "\n",
    "A vector field is conservative when it is the gradient of some scalar field. The line integral of a conservative vector field is independent of the path but depends only on the end-points. A conservative vector field is also said to be ‘irrotational’, since the curl of a conservative field is always zero. To check if a vector field is conservative, we can just call the `is_conservative` function from `sympy.physics.vector` submodule without explicitly solving for its curl."
   ]
  },
  {
   "cell_type": "code",
   "execution_count": null,
   "metadata": {},
   "outputs": [],
   "source": [
    "from sympy.physics.vector import is_conservative\n",
    "\n",
    "R = ReferenceFrame('R')\n",
    "vector_field = R[1]*R[2]*R.x + R[0]*R[2]*R.y + R[0]*R[1]*R.z\n",
    "is_conservative(vector_field)"
   ]
  },
  {
   "cell_type": "markdown",
   "metadata": {},
   "source": [
    "#### Solenoidal vector field<a name=\"solen\"></a>\n",
    "A vector field is solenoidal when its divergence is zero at all points in space. To check if a vector field is solenoidal, we call the `is_solenoidal` function from `sympy.physics.vector` submodule."
   ]
  },
  {
   "cell_type": "code",
   "execution_count": null,
   "metadata": {},
   "outputs": [],
   "source": [
    "from sympy.physics.vector import is_solenoidal\n",
    "\n",
    "R = ReferenceFrame('R')\n",
    "vector_field = R[1]*R[2]*R.x + R[0]*R[2]*R.y + R[0]*R[1]*R.z\n",
    "is_solenoidal(vector_field)"
   ]
  },
  {
   "cell_type": "markdown",
   "metadata": {},
   "source": [
    "####  Scalar potential function<a name=\"scapot\"></a>\n",
    "A conservative vector field is the gradient of some scalar field. This scalar field is called the scalar potential field. The `scalar_potential` function in `sympy.physics.vector` submodule calculates the scalar potential field corresponding to a given conservative vector field (sans the extra constant of integration)."
   ]
  },
  {
   "cell_type": "code",
   "execution_count": null,
   "metadata": {},
   "outputs": [],
   "source": [
    "from sympy.physics.vector import scalar_potential\n",
    "\n",
    "R = ReferenceFrame('R')\n",
    "cons_field = 4*R[0]*R[1]*R[2]*R.x + 2*R[0]**2*R[2]*R.y + 2*R[0]**2*R[1]*R.z\n",
    "scalar_potential(cons_field, R)"
   ]
  },
  {
   "cell_type": "markdown",
   "metadata": {},
   "source": [
    "#### Scalar potential difference<a name=\"scapotdiff\"></a>\n",
    "The line integral with respect to a conservative vector field depends not on the path but the end-points of the path. This can be easily computed with `scalar_potential_difference`."
   ]
  },
  {
   "cell_type": "code",
   "execution_count": null,
   "metadata": {},
   "outputs": [],
   "source": [
    "from sympy.physics.vector import Point\n",
    "from sympy.physics.vector import scalar_potential_difference\n",
    "\n",
    "R = ReferenceFrame('R')\n",
    "O = Point('O') # origin\n",
    "P = O.locatenew('P', 1*R.x + 2*R.y + 3*R.z) # new point from origin\n",
    "vectfield = 4*R[0]*R[1]*R.x + 2*R[0]**2*R.y\n",
    "scalar_potential_difference(vectfield, R, O, P, O) # param: field, ref frame, 1st point, 2nd point, origin"
   ]
  },
  {
   "cell_type": "markdown",
   "metadata": {},
   "source": [
    "Mastering the `sympy` library can be a useful aid for practising example problems from physics texts. Often times, these example problems come without provided solutions and `sympy` allows you to check your worked solutions, albeit with a little coding effort."
   ]
  }
 ],
 "metadata": {
  "kernelspec": {
   "display_name": "Python 3",
   "language": "python",
   "name": "python3"
  },
  "language_info": {
   "codemirror_mode": {
    "name": "ipython",
    "version": 3
   },
   "file_extension": ".py",
   "mimetype": "text/x-python",
   "name": "python",
   "nbconvert_exporter": "python",
   "pygments_lexer": "ipython3",
   "version": "3.7.4"
  }
 },
 "nbformat": 4,
 "nbformat_minor": 2
}
