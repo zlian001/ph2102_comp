{
 "cells": [
  {
   "cell_type": "markdown",
   "metadata": {},
   "source": [
    "# PH2102 Electromagnetism\n",
    "\n",
    "## Numerical methods and computation with Python\n",
    "### Lesson 1"
   ]
  },
  {
   "cell_type": "code",
   "execution_count": null,
   "metadata": {},
   "outputs": [],
   "source": [
    "# package(s) installation\n",
    "\n",
    "import sys\n",
    "!{sys.executable} -m pip install ipywidgets numdifftools"
   ]
  },
  {
   "cell_type": "code",
   "execution_count": 1,
   "metadata": {},
   "outputs": [],
   "source": [
    "# preamble\n",
    "\n",
    "%matplotlib inline\n",
    "from scipy import *\n",
    "import numdifftools as nd\n",
    "import matplotlib.pyplot as plt\n",
    "from mpl_toolkits.mplot3d import Axes3D\n",
    "from matplotlib import cm\n",
    "from ipywidgets import interact, FloatSlider"
   ]
  },
  {
   "cell_type": "markdown",
   "metadata": {},
   "source": [
    "## 1. Mathematical Preliminaries<a name=\"mathprelims\"></a>\n",
    "\n",
    "### A. dot & cross products<a name=\"dotcross\"></a>\n",
    "\n",
    "The dot and cross products are 2 basic operations necessary in vector algebra. Their implementation in python is simple enough with the use of the ever helpful `scipy` library.\n",
    "\n",
    "Let us start with simple 2-dimensional vectors $\\vec{A}$ and $\\vec{B}$,<br/>\n",
    "where $\\vec{A} = 1\\hat{x} + 0\\hat{y}$ and $\\vec{B}$ is left to be defined by the user.\n",
    "\n",
    "Run the code in the following cell."
   ]
  },
  {
   "cell_type": "code",
   "execution_count": 9,
   "metadata": {},
   "outputs": [
    {
     "data": {
      "application/vnd.jupyter.widget-view+json": {
       "model_id": "35615a8955e248ef8bf46468444fa3af",
       "version_major": 2,
       "version_minor": 0
      },
      "text/plain": [
       "interactive(children=(FloatSlider(value=1.0, continuous_update=False, description='x value of $\\\\vec{B}$', max…"
      ]
     },
     "metadata": {},
     "output_type": "display_data"
    }
   ],
   "source": [
    "def interact_vec():\n",
    "\n",
    "    def plot_vec(x,y):\n",
    "        \n",
    "        ## defining variables\n",
    "        origin = [0], [0]\n",
    "        A = [1, 0]\n",
    "        B = [x, y]\n",
    "        \n",
    "        ## dot product\n",
    "        C = dot(B, A)\n",
    "        print('The dot product between vectors A and B is', C)\n",
    "        \n",
    "        ## Set plot axes, etc.\n",
    "        plt.xlim(-11, 11)\n",
    "        plt.ylim(-11, 11)\n",
    "        plt.xticks(arange(-10, 11, step=5))\n",
    "        plt.yticks(arange(-10, 11, step=5))\n",
    "        plt.title(r\"Vectors\")\n",
    "        plt.xlabel(r'$x$')\n",
    "        plt.ylabel(r'$y$')\n",
    "        \n",
    "        ## plotting\n",
    "        plt.quiver(*origin, A[0], A[1], color='r', scale=10)\n",
    "        plt.quiver(*origin, B[0], B[1], color='g', scale=10)\n",
    "    \n",
    "    ## interactive slider\n",
    "    interact(plot_vec, x=FloatSlider(min=-3., max=3., step=0.1, value=1., continuous_update=False, description=r'x value of $\\vec{B}$')\n",
    "            , y=FloatSlider(min=-3., max=3., step=0.1, value=1., continuous_update=False, description=r'y value of $\\vec{B}$'))\n",
    "\n",
    "interact_vec();"
   ]
  },
  {
   "cell_type": "markdown",
   "metadata": {},
   "source": [
    "Look at the code in the previous cell again. Can you identify where we have made used of `scipy`'s `dot` function for the calculation of dot products between 2 vectors? It should be easy to check that the returned value of the `dot` function in the above 2-dimensional case is correct. This is then easily extendable to a 3-dimensional case without loss of information.\n",
    "\n",
    "Similarly, the cross product can be determined using `cross` function from `scipy` library. In the example cell below, set different values for $\\vec{B}$ given $\\vec{A} = 2\\hat{x} + 0\\hat{y} + 0\\hat{z}$ and observe their cross product."
   ]
  },
  {
   "cell_type": "code",
   "execution_count": 11,
   "metadata": {},
   "outputs": [
    {
     "data": {
      "application/vnd.jupyter.widget-view+json": {
       "model_id": "d4a6179a94f84a23be50dff6c12ff5c5",
       "version_major": 2,
       "version_minor": 0
      },
      "text/plain": [
       "interactive(children=(FloatSlider(value=1.0, continuous_update=False, description='x value of $\\\\vec{B}$', max…"
      ]
     },
     "metadata": {},
     "output_type": "display_data"
    }
   ],
   "source": [
    "def interact_vec():\n",
    "    ## Parameters\n",
    "    camz, camera_angle = 20., 60.\n",
    "\n",
    "    def plot_vec(x,y,z):\n",
    "        \n",
    "        ## defining variables\n",
    "        origin = [0], [0], [0]\n",
    "        A = [2, 0, 0]\n",
    "        B = [x, y, z]\n",
    "        \n",
    "        ## cross product\n",
    "        C = cross(A, B)\n",
    "        print('Vector A cross B is', C)\n",
    "        \n",
    "        ## Set plot axes, etc.\n",
    "        fig = plt.figure()\n",
    "        ax = fig.add_subplot(1, 1, 1, projection='3d')\n",
    "        ax.set_xlim3d(-5, 5)\n",
    "        ax.set_ylim3d(-5, 5)\n",
    "        ax.set_zlim3d(-5, 5)\n",
    "        ax.view_init(elev=camz, azim=camera_angle)\n",
    "        ax.set_title(r\"Vectors\")\n",
    "        ax.set_xlabel(r'$x$')\n",
    "        ax.set_ylabel(r'$y$')\n",
    "        ax.set_zlabel(r'$z$')\n",
    "        \n",
    "        ##plotting\n",
    "        ax.quiver(*origin, A[0], A[1], A[2], color=\"r\")\n",
    "        ax.quiver(*origin, B[0], B[1], B[2], color=\"g\")\n",
    "        ax.quiver(*origin, C[0], C[1], C[2], color=\"b\")\n",
    "        \n",
    "    interact(plot_vec, x=FloatSlider(min=-5., max=5., step=0.1, value=1., continuous_update=False, description=r'x value of $\\vec{B}$')\n",
    "            , y=FloatSlider(min=-5., max=5., step=0.1, value=1., continuous_update=False, description=r'y value of $\\vec{B}$')\n",
    "            , z=FloatSlider(min=-5., max=5., step=0.1, value=1., continuous_update=False, description=r'z value of $\\vec{B}$'))\n",
    "\n",
    "interact_vec();"
   ]
  },
  {
   "cell_type": "markdown",
   "metadata": {},
   "source": [
    "Exercise 1) Prove, in the cell below, the __vector triple product__ rule i.e. $\\vec{A} \\times (\\vec{B} \\times \\vec{C}) = \\vec{B}(\\vec{A} \\cdot \\vec{C}) - \\vec{C}(\\vec{A} \\cdot \\vec{B})$ given the values of $\\vec{A}, \\vec{B}$ and $\\vec{C}$.\n",
    "\n",
    "_*Hint: Evaluate and compare LHS with RHS._"
   ]
  },
  {
   "cell_type": "code",
   "execution_count": 28,
   "metadata": {},
   "outputs": [],
   "source": [
    "A = array([2, 0, 0])\n",
    "B = array([0, 2, 0])\n",
    "C = array([1, 1, 1])\n",
    "\n",
    "## edit your code here"
   ]
  },
  {
   "cell_type": "markdown",
   "metadata": {},
   "source": [
    "Exercise 2) Let us try to retrieve the angle $\\theta$ formed by 2 vectors $\\vec{A}$ and $\\vec{B}$ in $R^3$ space, given the values of $\\vec{A}$ and $\\vec{B}$. Implement your code in the cell below.\n",
    "\n",
    "_*Hint: recall $\\vec{v}\\cdot\\vec{v}=|v|^2$ and $\\vec{A}\\cdot\\vec{B}=|A||B|cos\\theta$._"
   ]
  },
  {
   "cell_type": "code",
   "execution_count": 32,
   "metadata": {},
   "outputs": [],
   "source": [
    "A = array([1, 0, 0])\n",
    "B = array([-1, 0, 0])\n",
    "\n",
    "## get magnitude of a vector\n",
    "\n",
    "## get the angle theta between 2 vectors"
   ]
  },
  {
   "cell_type": "markdown",
   "metadata": {},
   "source": [
    "### B. 3D coordinate systems<a name=\"convert\"></a>\n",
    "\n",
    "Often times, it is handy to describe the geometry of a particular system in coordinates that allows for exploitation of its symmetry. The following cells demonstrates some simple functions that convert between cartesian, cylindrical and spherical coordinates."
   ]
  },
  {
   "cell_type": "markdown",
   "metadata": {},
   "source": [
    "#### Cartesian - Cylindrical"
   ]
  },
  {
   "cell_type": "code",
   "execution_count": 33,
   "metadata": {},
   "outputs": [],
   "source": [
    "## s is a cartesian coordinate given by [x,y,z]\n",
    "def cart2cyl(s):\n",
    "    rho = sqrt(s[0]**2 + s[1]**2)\n",
    "    phi = arctan2(s[1], s[0])\n",
    "    z = s[2]\n",
    "\n",
    "    return [rho, phi, z]\n",
    "\n",
    "## s is a cylindrical coordinate given by [rho,phi,z]\n",
    "def cyl2cart(s):\n",
    "    x = s[0] * cos(s[1])\n",
    "    y = s[0] * sin(s[1])\n",
    "    z = s[2]\n",
    "\n",
    "    return [x, y, z]"
   ]
  },
  {
   "cell_type": "markdown",
   "metadata": {},
   "source": [
    "#### Cartesian - Spherical\n",
    "Exercise 3) Write 2 functions in the cell below that accomplish the conversion from cartesian to spherical coordinates and vice versa."
   ]
  },
  {
   "cell_type": "code",
   "execution_count": null,
   "metadata": {},
   "outputs": [],
   "source": [
    "## s is a cartesian coordinate given by [x,y,z]\n",
    "def cart2sph(s):\n",
    "    ## edit your code here\n",
    "    #return [r, theta, phi]\n",
    "\n",
    "## s is a spherical coordinate given by [r,theta,phi]\n",
    "def sph2cart(s):\n",
    "    ## edit your code here\n",
    "    #return [x, y, z]"
   ]
  },
  {
   "cell_type": "markdown",
   "metadata": {},
   "source": [
    "### C. Fields and differential calculus<a name=\"vecfields\"></a>\n",
    "\n",
    "Now that we have become familiar with vectors, we turn our attention to vector fields. When dealing with vector fields, there are a couple of differential operations we can perform, namely: gradient, divergence and curl."
   ]
  },
  {
   "cell_type": "markdown",
   "metadata": {},
   "source": [
    "#### Gradient<a name=\"grad\"></a>\n",
    "\n",
    "`gradient` from `scipy` library returns the gradient of a scalar function, which is itself a vector field. The cell below demonstrates a simple example of computing the gradient of an arbitrary scalar field, and its plot visualisation using `matplotlib`'s `quiver`function. \n",
    "\n",
    "Additionally, note the usage of `scipy`'s `meshgrid` to create the 2-dimensional grid points. We also make used of the `contour` function from `matplotlib` library to plot the scalar function, very much analogous to a topographic map. "
   ]
  },
  {
   "cell_type": "code",
   "execution_count": 72,
   "metadata": {},
   "outputs": [
    {
     "data": {
      "text/plain": [
       "<matplotlib.quiver.Quiver at 0x21f7eed1508>"
      ]
     },
     "execution_count": 72,
     "metadata": {},
     "output_type": "execute_result"
    },
    {
     "data": {
      "image/png": "[encoded data removed]",
      "text/plain": [
       "<Figure size 432x288 with 1 Axes>"
      ]
     },
     "metadata": {
      "needs_background": "light"
     },
     "output_type": "display_data"
    }
   ],
   "source": [
    "## set up the co-ordinates\n",
    "x = linspace(-2., 2., 20)\n",
    "y = linspace(-2., 2., 20)\n",
    "X, Y = meshgrid(x, y)\n",
    "\n",
    "## an arbitrary scalar function\n",
    "Z = exp(-X**2 - Y**2)\n",
    "\n",
    "## gradient of scalar field\n",
    "gy, gx = gradient(Z) \n",
    "# Indexing is ordered left to right (rows followed by columns). \n",
    "# Thus the y-axis gradient (evaluated across rows) is returned first.\n",
    "\n",
    "## setting up plot\n",
    "plt.gca().set_aspect('equal', adjustable='box')\n",
    "\n",
    "## plotting the gradient (which is a vector field)\n",
    "plt.contour(X, Y, Z) # scalar function\n",
    "plt.quiver(X, Y, gx, gy)"
   ]
  },
  {
   "cell_type": "markdown",
   "metadata": {},
   "source": [
    "#### Divergence<a name=\"div\"></a>\n",
    "\n",
    "The divergence of a vector function is itself a scalar field, and its plot visualisation can be done using `matplotlib`'s `plot_surface`. Unfortunately, `scipy` does not have a built-in divergence function we can call. However, we can define our own divergence function based on the expression $\\nabla \\cdot \\vec{V} = \\frac{\\partial V_{x}}{\\partial x} + \\frac{\\partial V_{y}}{\\partial y} + \\frac{\\partial V_{z}}{\\partial z}$"
   ]
  },
  {
   "cell_type": "markdown",
   "metadata": {},
   "source": [
    "Exercise 4) Write a `python` function that returns the divergence of an input vector field. _(challenging)_"
   ]
  },
  {
   "cell_type": "code",
   "execution_count": null,
   "metadata": {},
   "outputs": [],
   "source": [
    "def divergence(f):\n",
    "    \"\"\"\n",
    "    Computes and return a single array of the same shape as each of the items in f \n",
    "    i.e. the divergence of the vector field f, dFx/dx + dFy/dy + ...\n",
    "    \n",
    "    f: List of arrays, where every item of the list is one dimension of the vector field\n",
    "    \"\"\"\n",
    "    # edit your code here\n",
    "    \n",
    "    return div"
   ]
  },
  {
   "cell_type": "markdown",
   "metadata": {},
   "source": [
    "Now that we have the user-defined `divergence` function, the cell below demonstrates a simple example of plot visualisation for divergence of an arbitrary vector field using `matplotlib`'s `plot_surface`."
   ]
  },
  {
   "cell_type": "code",
   "execution_count": null,
   "metadata": {},
   "outputs": [],
   "source": [
    "## set up the co-ordinates\n",
    "x = linspace(-2., 2., 20)\n",
    "y = linspace(-2., 2., 20)\n",
    "X, Y = meshgrid(x, y)\n",
    "\n",
    "## an arbitrary vector function\n",
    "alpha = 3\n",
    "r2 = X**2 + Y**2\n",
    "Ax = exp(-r2/alpha**2)*X\n",
    "Ay = exp(-r2/alpha**2)*Y\n",
    "\n",
    "field = [Ax, Ay]\n",
    "div = divergence(field)\n",
    "\n",
    "## plot of vector function\n",
    "plt.gca().set_aspect('equal', adjustable='box')\n",
    "plt.quiver(X, Y, Ax, Ay)\n",
    "\n",
    "## plotting the divergence (which is a scalar field)\n",
    "ax = plt.figure().gca(projection = '3d')\n",
    "ax.plot_surface(X, Y, div, cmap=cm.coolwarm, linewidth=1, antialiased='True')"
   ]
  },
  {
   "cell_type": "markdown",
   "metadata": {},
   "source": [
    "#### Curl<a name=\"curl\"></a>\n",
    "\n",
    "The curl of a vector function is itself a vector field. Regrettably, `scipy` module also does not have a built-in curl function. Fortunately, we can define our own curl function based on the expression\n",
    "$\\nabla \\times \\vec{V} = \\left(\\frac{\\partial V_{z}}{\\partial y} - \\frac{\\partial V_{y}}{\\partial z}\\right)\\hat{x} + \\left(\\frac{\\partial V_{x}}{\\partial z} - \\frac{\\partial V_{z}}{\\partial x}\\right)\\hat{y} + \\left(\\frac{\\partial V_{y}}{\\partial x} - \\frac{\\partial V_{x}}{\\partial y}\\right)\\hat{z}$"
   ]
  },
  {
   "cell_type": "markdown",
   "metadata": {},
   "source": [
    "Exercise 5) Write a `python` function that returns the curl of an input vector field. _(challenging)_\n",
    "\n",
    "_*Hint: explore the `Jacobian` function from `numdifftools` library. Check out the [online documentation](https://numdifftools.readthedocs.io/en/latest/reference/numdifftools.html#module-numdifftools.core). You need to have `numdifftools` library installed._"
   ]
  },
  {
   "cell_type": "code",
   "execution_count": null,
   "metadata": {},
   "outputs": [],
   "source": [
    "def curl(f, x):\n",
    "    # edit your code here\n",
    "    return c"
   ]
  },
  {
   "cell_type": "markdown",
   "metadata": {},
   "source": [
    "Now that we have the user-defined curl function, the cell below demonstrates a simple example of computing the curl of an arbitrary vortex vector field, and its plot visualisation using `matplotlib`'s `quiver`."
   ]
  },
  {
   "cell_type": "code",
   "execution_count": null,
   "metadata": {},
   "outputs": [],
   "source": [
    "## set up the co-ordinates\n",
    "lx, ly, lz = 10, 10, 10\n",
    "x = linspace(-2., 2., lx)\n",
    "y = linspace(-2., 2., ly)\n",
    "z = linspace(0., .1, lz)\n",
    "X, Y, Z = meshgrid(x, y, z, indexing='ij')\n",
    "\n",
    "## vortex vector field\n",
    "def v1(x):\n",
    "    return array([ exp((-x[0]**2 - x[1]**2)/9) * -x[1], exp((-x[0]**2 - x[1]**2)/9) * x[0], 0 ])\n",
    "\n",
    "c_res = zeros((lx,ly,lz,3))\n",
    "for i in range(len(x)):\n",
    "    for j in range(len(y)):\n",
    "        for k in range(len(z)):\n",
    "            r = array([ x[i], y[j], z[k] ])\n",
    "            c = curl(v1, r)\n",
    "            c_res[i,j,k,0] = c[0]\n",
    "            c_res[i,j,k,1] = c[1]\n",
    "            c_res[i,j,k,2] = c[2]\n",
    "\n",
    "## plotting the curl (which is a vector field) at z=0 \n",
    "ax = plt.figure().gca(projection = '3d')\n",
    "ax.quiver(X[:,:,0], Y[:,:,0], Z[:,:,0], c_res[:,:,0,0], c_res[:,:,0,1], c_res[:,:,0,2], arrow_length_ratio=.3, length=.03)"
   ]
  },
  {
   "cell_type": "code",
   "execution_count": null,
   "metadata": {},
   "outputs": [],
   "source": [
    "## plotting the vortex vector field\n",
    "X, Y = meshgrid(x, y)\n",
    "\n",
    "plt.gca().set_aspect('equal', adjustable='box')\n",
    "plt.quiver(X, Y, v1([X,Y])[0], v1([X,Y])[1])"
   ]
  },
  {
   "cell_type": "markdown",
   "metadata": {},
   "source": [
    "Question: Do you know why we call for a seperate 2D meshgrid for the vortex vector field plot?"
   ]
  }
 ],
 "metadata": {
  "kernelspec": {
   "display_name": "Python 3",
   "language": "python",
   "name": "python3"
  },
  "language_info": {
   "codemirror_mode": {
    "name": "ipython",
    "version": 3
   },
   "file_extension": ".py",
   "mimetype": "text/x-python",
   "name": "python",
   "nbconvert_exporter": "python",
   "pygments_lexer": "ipython3",
   "version": "3.7.4"
  }
 },
 "nbformat": 4,
 "nbformat_minor": 2
}
